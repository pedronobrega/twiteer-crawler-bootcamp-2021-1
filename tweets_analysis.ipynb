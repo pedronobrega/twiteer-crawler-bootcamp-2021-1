{
 "cells": [
  {
   "cell_type": "markdown",
   "metadata": {},
   "source": [
    "# Entendendo a estrutura do JSON"
   ]
  },
  {
   "cell_type": "code",
   "execution_count": 1,
   "metadata": {},
   "outputs": [],
   "source": [
    "import json"
   ]
  },
  {
   "cell_type": "code",
   "execution_count": 2,
   "metadata": {},
   "outputs": [],
   "source": [
    "with open(\"collected_tweets_1616067285.357482.txt\", \"r\") as file:\n",
    "    tweets = file.readlines()"
   ]
  },
  {
   "cell_type": "code",
   "execution_count": 3,
   "metadata": {},
   "outputs": [],
   "source": [
    "parsed_tweets = [json.loads(json.loads(tweet)) for tweet in tweets]"
   ]
  },
  {
   "cell_type": "code",
   "execution_count": null,
   "metadata": {},
   "outputs": [],
   "source": [
    "parsed_tweets[2]"
   ]
  },
  {
   "cell_type": "code",
   "execution_count": 13,
   "metadata": {},
   "outputs": [
    {
     "data": {
      "text/plain": [
       "2224"
      ]
     },
     "execution_count": 13,
     "metadata": {},
     "output_type": "execute_result"
    }
   ],
   "source": [
    "len(parsed_tweets)"
   ]
  },
  {
   "cell_type": "code",
   "execution_count": 42,
   "metadata": {},
   "outputs": [],
   "source": [
    "primeiro_tt = parsed_tweets[17]"
   ]
  },
  {
   "cell_type": "markdown",
   "metadata": {},
   "source": [
    "# Transformando os tweets em uma estrutura relacional"
   ]
  },
  {
   "cell_type": "code",
   "execution_count": 6,
   "metadata": {},
   "outputs": [],
   "source": [
    "import pandas as pd"
   ]
  },
  {
   "cell_type": "code",
   "execution_count": 43,
   "metadata": {},
   "outputs": [
    {
     "data": {
      "text/html": [
       "<div>\n",
       "<style scoped>\n",
       "    .dataframe tbody tr th:only-of-type {\n",
       "        vertical-align: middle;\n",
       "    }\n",
       "\n",
       "    .dataframe tbody tr th {\n",
       "        vertical-align: top;\n",
       "    }\n",
       "\n",
       "    .dataframe thead th {\n",
       "        text-align: right;\n",
       "    }\n",
       "</style>\n",
       "<table border=\"1\" class=\"dataframe\">\n",
       "  <thead>\n",
       "    <tr style=\"text-align: right;\">\n",
       "      <th></th>\n",
       "      <th>created_at</th>\n",
       "      <th>id</th>\n",
       "      <th>id_str</th>\n",
       "      <th>text</th>\n",
       "      <th>source</th>\n",
       "      <th>truncated</th>\n",
       "      <th>in_reply_to_status_id</th>\n",
       "      <th>in_reply_to_status_id_str</th>\n",
       "      <th>in_reply_to_user_id</th>\n",
       "      <th>in_reply_to_user_id_str</th>\n",
       "      <th>...</th>\n",
       "      <th>quote_count</th>\n",
       "      <th>reply_count</th>\n",
       "      <th>retweet_count</th>\n",
       "      <th>favorite_count</th>\n",
       "      <th>entities</th>\n",
       "      <th>favorited</th>\n",
       "      <th>retweeted</th>\n",
       "      <th>filter_level</th>\n",
       "      <th>lang</th>\n",
       "      <th>timestamp_ms</th>\n",
       "    </tr>\n",
       "  </thead>\n",
       "  <tbody>\n",
       "    <tr>\n",
       "      <th>0</th>\n",
       "      <td>Thu Mar 18 11:34:49 +0000 2021</td>\n",
       "      <td>1372511806539796487</td>\n",
       "      <td>1372511806539796487</td>\n",
       "      <td>RT @toboso_official: 「DISNEY TWISTED－WONDERLAN...</td>\n",
       "      <td>&lt;a href=\"http://twitter.com/download/iphone\" r...</td>\n",
       "      <td>False</td>\n",
       "      <td>None</td>\n",
       "      <td>None</td>\n",
       "      <td>None</td>\n",
       "      <td>None</td>\n",
       "      <td>...</td>\n",
       "      <td>0</td>\n",
       "      <td>0</td>\n",
       "      <td>0</td>\n",
       "      <td>0</td>\n",
       "      <td>NaN</td>\n",
       "      <td>False</td>\n",
       "      <td>False</td>\n",
       "      <td>low</td>\n",
       "      <td>ja</td>\n",
       "      <td>1616067289372</td>\n",
       "    </tr>\n",
       "  </tbody>\n",
       "</table>\n",
       "<p>1 rows × 28 columns</p>\n",
       "</div>"
      ],
      "text/plain": [
       "                       created_at                   id               id_str  \\\n",
       "0  Thu Mar 18 11:34:49 +0000 2021  1372511806539796487  1372511806539796487   \n",
       "\n",
       "                                                text  \\\n",
       "0  RT @toboso_official: 「DISNEY TWISTED－WONDERLAN...   \n",
       "\n",
       "                                              source  truncated  \\\n",
       "0  <a href=\"http://twitter.com/download/iphone\" r...      False   \n",
       "\n",
       "  in_reply_to_status_id in_reply_to_status_id_str in_reply_to_user_id  \\\n",
       "0                  None                      None                None   \n",
       "\n",
       "  in_reply_to_user_id_str  ... quote_count reply_count retweet_count  \\\n",
       "0                    None  ...           0           0             0   \n",
       "\n",
       "  favorite_count entities favorited retweeted  filter_level  lang  \\\n",
       "0              0      NaN     False     False           low    ja   \n",
       "\n",
       "    timestamp_ms  \n",
       "0  1616067289372  \n",
       "\n",
       "[1 rows x 28 columns]"
      ]
     },
     "execution_count": 43,
     "metadata": {},
     "output_type": "execute_result"
    }
   ],
   "source": [
    "df_tratado = pd.DataFrame(primeiro_tt).reset_index(drop=True).iloc[:1]\n",
    "df_tratado"
   ]
  },
  {
   "cell_type": "code",
   "execution_count": 44,
   "metadata": {},
   "outputs": [
    {
     "data": {
      "text/plain": [
       "Index(['created_at', 'id', 'id_str', 'text', 'source', 'truncated',\n",
       "       'in_reply_to_status_id', 'in_reply_to_status_id_str',\n",
       "       'in_reply_to_user_id', 'in_reply_to_user_id_str',\n",
       "       'in_reply_to_screen_name', 'user', 'geo', 'coordinates', 'place',\n",
       "       'contributors', 'retweeted_status', 'is_quote_status', 'quote_count',\n",
       "       'reply_count', 'retweet_count', 'favorite_count', 'entities',\n",
       "       'favorited', 'retweeted', 'filter_level', 'lang', 'timestamp_ms'],\n",
       "      dtype='object')"
      ]
     },
     "execution_count": 44,
     "metadata": {},
     "output_type": "execute_result"
    }
   ],
   "source": [
    "df_tratado.columns"
   ]
  },
  {
   "cell_type": "code",
   "execution_count": 45,
   "metadata": {},
   "outputs": [],
   "source": [
    "df_tratado.drop(columns=['quote_count', 'reply_count', 'retweet_count', 'favorite_count', 'favorited', 'retweeted', 'user', 'entities'], inplace=True)"
   ]
  },
  {
   "cell_type": "code",
   "execution_count": 46,
   "metadata": {},
   "outputs": [],
   "source": [
    "df_tratado['user_id'] = primeiro_tt['user']['id']\n",
    "df_tratado['user_id_str'] = primeiro_tt['user']['id_str']\n",
    "df_tratado['user_screen_name'] = primeiro_tt['user']['screen_name']\n",
    "df_tratado['user_location'] = primeiro_tt['user']['location']\n",
    "df_tratado['user_description'] = primeiro_tt['user']['description']\n",
    "df_tratado['user_protected'] = primeiro_tt['user']['protected']\n",
    "df_tratado['user_verified'] = primeiro_tt['user']['verified']\n",
    "df_tratado['user_followers_count'] = primeiro_tt['user']['followers_count']\n",
    "df_tratado['user_friends_count'] = primeiro_tt['user']['friends_count']\n",
    "df_tratado['user_created_at'] = primeiro_tt['user']['created_at']"
   ]
  },
  {
   "cell_type": "code",
   "execution_count": 47,
   "metadata": {},
   "outputs": [
    {
     "data": {
      "text/html": [
       "<div>\n",
       "<style scoped>\n",
       "    .dataframe tbody tr th:only-of-type {\n",
       "        vertical-align: middle;\n",
       "    }\n",
       "\n",
       "    .dataframe tbody tr th {\n",
       "        vertical-align: top;\n",
       "    }\n",
       "\n",
       "    .dataframe thead th {\n",
       "        text-align: right;\n",
       "    }\n",
       "</style>\n",
       "<table border=\"1\" class=\"dataframe\">\n",
       "  <thead>\n",
       "    <tr style=\"text-align: right;\">\n",
       "      <th></th>\n",
       "      <th>created_at</th>\n",
       "      <th>id</th>\n",
       "      <th>id_str</th>\n",
       "      <th>text</th>\n",
       "      <th>source</th>\n",
       "      <th>truncated</th>\n",
       "      <th>in_reply_to_status_id</th>\n",
       "      <th>in_reply_to_status_id_str</th>\n",
       "      <th>in_reply_to_user_id</th>\n",
       "      <th>in_reply_to_user_id_str</th>\n",
       "      <th>...</th>\n",
       "      <th>user_id</th>\n",
       "      <th>user_id_str</th>\n",
       "      <th>user_screen_name</th>\n",
       "      <th>user_location</th>\n",
       "      <th>user_description</th>\n",
       "      <th>user_protected</th>\n",
       "      <th>user_verified</th>\n",
       "      <th>user_followers_count</th>\n",
       "      <th>user_friends_count</th>\n",
       "      <th>user_created_at</th>\n",
       "    </tr>\n",
       "  </thead>\n",
       "  <tbody>\n",
       "    <tr>\n",
       "      <th>0</th>\n",
       "      <td>Thu Mar 18 11:34:49 +0000 2021</td>\n",
       "      <td>1372511806539796487</td>\n",
       "      <td>1372511806539796487</td>\n",
       "      <td>RT @toboso_official: 「DISNEY TWISTED－WONDERLAN...</td>\n",
       "      <td>&lt;a href=\"http://twitter.com/download/iphone\" r...</td>\n",
       "      <td>False</td>\n",
       "      <td>None</td>\n",
       "      <td>None</td>\n",
       "      <td>None</td>\n",
       "      <td>None</td>\n",
       "      <td>...</td>\n",
       "      <td>1050631007018266624</td>\n",
       "      <td>1050631007018266624</td>\n",
       "      <td>it0it0it0it</td>\n",
       "      <td>日本</td>\n",
       "      <td>25↑/社畜/夢も腐もなんでもあり/Fate(ギル)/ツイステ(🐚寮・♠️)/鬼滅(風・水・...</td>\n",
       "      <td>False</td>\n",
       "      <td>False</td>\n",
       "      <td>115</td>\n",
       "      <td>293</td>\n",
       "      <td>Fri Oct 12 06:15:26 +0000 2018</td>\n",
       "    </tr>\n",
       "  </tbody>\n",
       "</table>\n",
       "<p>1 rows × 30 columns</p>\n",
       "</div>"
      ],
      "text/plain": [
       "                       created_at                   id               id_str  \\\n",
       "0  Thu Mar 18 11:34:49 +0000 2021  1372511806539796487  1372511806539796487   \n",
       "\n",
       "                                                text  \\\n",
       "0  RT @toboso_official: 「DISNEY TWISTED－WONDERLAN...   \n",
       "\n",
       "                                              source  truncated  \\\n",
       "0  <a href=\"http://twitter.com/download/iphone\" r...      False   \n",
       "\n",
       "  in_reply_to_status_id in_reply_to_status_id_str in_reply_to_user_id  \\\n",
       "0                  None                      None                None   \n",
       "\n",
       "  in_reply_to_user_id_str  ...              user_id          user_id_str  \\\n",
       "0                    None  ...  1050631007018266624  1050631007018266624   \n",
       "\n",
       "  user_screen_name user_location  \\\n",
       "0      it0it0it0it            日本   \n",
       "\n",
       "                                    user_description user_protected  \\\n",
       "0  25↑/社畜/夢も腐もなんでもあり/Fate(ギル)/ツイステ(🐚寮・♠️)/鬼滅(風・水・...          False   \n",
       "\n",
       "   user_verified user_followers_count user_friends_count  \\\n",
       "0          False                  115                293   \n",
       "\n",
       "                  user_created_at  \n",
       "0  Fri Oct 12 06:15:26 +0000 2018  \n",
       "\n",
       "[1 rows x 30 columns]"
      ]
     },
     "execution_count": 47,
     "metadata": {},
     "output_type": "execute_result"
    }
   ],
   "source": [
    "df_tratado"
   ]
  },
  {
   "cell_type": "code",
   "execution_count": 63,
   "metadata": {},
   "outputs": [
    {
     "data": {
      "text/html": [
       "<div>\n",
       "<style scoped>\n",
       "    .dataframe tbody tr th:only-of-type {\n",
       "        vertical-align: middle;\n",
       "    }\n",
       "\n",
       "    .dataframe tbody tr th {\n",
       "        vertical-align: top;\n",
       "    }\n",
       "\n",
       "    .dataframe thead th {\n",
       "        text-align: right;\n",
       "    }\n",
       "</style>\n",
       "<table border=\"1\" class=\"dataframe\">\n",
       "  <thead>\n",
       "    <tr style=\"text-align: right;\">\n",
       "      <th></th>\n",
       "      <th>entities_screen_name</th>\n",
       "      <th>entities_name</th>\n",
       "      <th>entities_id</th>\n",
       "      <th>entities_id_str</th>\n",
       "    </tr>\n",
       "  </thead>\n",
       "  <tbody>\n",
       "    <tr>\n",
       "      <th>0</th>\n",
       "      <td>toboso_official</td>\n",
       "      <td>枢やな_Staff</td>\n",
       "      <td>735347393709912065</td>\n",
       "      <td>735347393709912065</td>\n",
       "    </tr>\n",
       "  </tbody>\n",
       "</table>\n",
       "</div>"
      ],
      "text/plain": [
       "  entities_screen_name entities_name         entities_id     entities_id_str\n",
       "0      toboso_official     枢やな_Staff  735347393709912065  735347393709912065"
      ]
     },
     "execution_count": 63,
     "metadata": {},
     "output_type": "execute_result"
    }
   ],
   "source": [
    "user_mentions = []\n",
    "for mention in primeiro_tt['entities']['user_mentions']:\n",
    "    base = mention.copy()\n",
    "    mention.pop('indices', None)\n",
    "    user_mentions.append(\n",
    "        pd.DataFrame(mention, index=[0]).rename(columns={\n",
    "            'screen_name': 'entities_screen_name',\n",
    "            'name': 'entities_name',\n",
    "            'id': 'entities_id',\n",
    "            'id_str': 'entities_id_str'\n",
    "        })\n",
    "    )\n",
    "    \n",
    "user_mentions"
   ]
  },
  {
   "cell_type": "code",
   "execution_count": 64,
   "metadata": {},
   "outputs": [
    {
     "data": {
      "text/html": [
       "<div>\n",
       "<style scoped>\n",
       "    .dataframe tbody tr th:only-of-type {\n",
       "        vertical-align: middle;\n",
       "    }\n",
       "\n",
       "    .dataframe tbody tr th {\n",
       "        vertical-align: top;\n",
       "    }\n",
       "\n",
       "    .dataframe thead th {\n",
       "        text-align: right;\n",
       "    }\n",
       "</style>\n",
       "<table border=\"1\" class=\"dataframe\">\n",
       "  <thead>\n",
       "    <tr style=\"text-align: right;\">\n",
       "      <th></th>\n",
       "      <th>entities_screen_name</th>\n",
       "      <th>entities_name</th>\n",
       "      <th>entities_id</th>\n",
       "      <th>entities_id_str</th>\n",
       "    </tr>\n",
       "  </thead>\n",
       "  <tbody>\n",
       "    <tr>\n",
       "      <th>0</th>\n",
       "      <td>toboso_official</td>\n",
       "      <td>枢やな_Staff</td>\n",
       "      <td>735347393709912065</td>\n",
       "      <td>735347393709912065</td>\n",
       "    </tr>\n",
       "  </tbody>\n",
       "</table>\n",
       "</div>"
      ],
      "text/plain": [
       "  entities_screen_name entities_name         entities_id     entities_id_str\n",
       "0      toboso_official     枢やな_Staff  735347393709912065  735347393709912065"
      ]
     },
     "execution_count": 64,
     "metadata": {},
     "output_type": "execute_result"
    }
   ],
   "source": [
    "pd.concat(user_mentions, ignore_index=True)"
   ]
  },
  {
   "cell_type": "code",
   "execution_count": 66,
   "metadata": {},
   "outputs": [],
   "source": [
    "dfs = []\n",
    "for i in user_mentions:\n",
    "    dfs.append(\n",
    "        pd.concat([df_tratado.copy(), i], axis=1)\n",
    "    )"
   ]
  },
  {
   "cell_type": "code",
   "execution_count": 69,
   "metadata": {},
   "outputs": [
    {
     "data": {
      "text/html": [
       "<div>\n",
       "<style scoped>\n",
       "    .dataframe tbody tr th:only-of-type {\n",
       "        vertical-align: middle;\n",
       "    }\n",
       "\n",
       "    .dataframe tbody tr th {\n",
       "        vertical-align: top;\n",
       "    }\n",
       "\n",
       "    .dataframe thead th {\n",
       "        text-align: right;\n",
       "    }\n",
       "</style>\n",
       "<table border=\"1\" class=\"dataframe\">\n",
       "  <thead>\n",
       "    <tr style=\"text-align: right;\">\n",
       "      <th></th>\n",
       "      <th>created_at</th>\n",
       "      <th>id</th>\n",
       "      <th>id_str</th>\n",
       "      <th>text</th>\n",
       "      <th>source</th>\n",
       "      <th>truncated</th>\n",
       "      <th>in_reply_to_status_id</th>\n",
       "      <th>in_reply_to_status_id_str</th>\n",
       "      <th>in_reply_to_user_id</th>\n",
       "      <th>in_reply_to_user_id_str</th>\n",
       "      <th>...</th>\n",
       "      <th>user_description</th>\n",
       "      <th>user_protected</th>\n",
       "      <th>user_verified</th>\n",
       "      <th>user_followers_count</th>\n",
       "      <th>user_friends_count</th>\n",
       "      <th>user_created_at</th>\n",
       "      <th>entities_screen_name</th>\n",
       "      <th>entities_name</th>\n",
       "      <th>entities_id</th>\n",
       "      <th>entities_id_str</th>\n",
       "    </tr>\n",
       "  </thead>\n",
       "  <tbody>\n",
       "    <tr>\n",
       "      <th>0</th>\n",
       "      <td>Thu Mar 18 11:34:49 +0000 2021</td>\n",
       "      <td>1372511806539796487</td>\n",
       "      <td>1372511806539796487</td>\n",
       "      <td>RT @toboso_official: 「DISNEY TWISTED－WONDERLAN...</td>\n",
       "      <td>&lt;a href=\"http://twitter.com/download/iphone\" r...</td>\n",
       "      <td>False</td>\n",
       "      <td>None</td>\n",
       "      <td>None</td>\n",
       "      <td>None</td>\n",
       "      <td>None</td>\n",
       "      <td>...</td>\n",
       "      <td>25↑/社畜/夢も腐もなんでもあり/Fate(ギル)/ツイステ(🐚寮・♠️)/鬼滅(風・水・...</td>\n",
       "      <td>False</td>\n",
       "      <td>False</td>\n",
       "      <td>115</td>\n",
       "      <td>293</td>\n",
       "      <td>Fri Oct 12 06:15:26 +0000 2018</td>\n",
       "      <td>toboso_official</td>\n",
       "      <td>枢やな_Staff</td>\n",
       "      <td>735347393709912065</td>\n",
       "      <td>735347393709912065</td>\n",
       "    </tr>\n",
       "  </tbody>\n",
       "</table>\n",
       "<p>1 rows × 34 columns</p>\n",
       "</div>"
      ],
      "text/plain": [
       "                       created_at                   id               id_str  \\\n",
       "0  Thu Mar 18 11:34:49 +0000 2021  1372511806539796487  1372511806539796487   \n",
       "\n",
       "                                                text  \\\n",
       "0  RT @toboso_official: 「DISNEY TWISTED－WONDERLAN...   \n",
       "\n",
       "                                              source  truncated  \\\n",
       "0  <a href=\"http://twitter.com/download/iphone\" r...      False   \n",
       "\n",
       "  in_reply_to_status_id in_reply_to_status_id_str in_reply_to_user_id  \\\n",
       "0                  None                      None                None   \n",
       "\n",
       "  in_reply_to_user_id_str  ...  \\\n",
       "0                    None  ...   \n",
       "\n",
       "                                    user_description user_protected  \\\n",
       "0  25↑/社畜/夢も腐もなんでもあり/Fate(ギル)/ツイステ(🐚寮・♠️)/鬼滅(風・水・...          False   \n",
       "\n",
       "  user_verified user_followers_count user_friends_count  \\\n",
       "0         False                  115                293   \n",
       "\n",
       "                  user_created_at  entities_screen_name entities_name  \\\n",
       "0  Fri Oct 12 06:15:26 +0000 2018       toboso_official     枢やな_Staff   \n",
       "\n",
       "          entities_id     entities_id_str  \n",
       "0  735347393709912065  735347393709912065  \n",
       "\n",
       "[1 rows x 34 columns]"
      ]
     },
     "execution_count": 69,
     "metadata": {},
     "output_type": "execute_result"
    }
   ],
   "source": [
    "pd.concat(dfs, ignore_index=True)"
   ]
  },
  {
   "cell_type": "code",
   "execution_count": 7,
   "metadata": {},
   "outputs": [],
   "source": [
    "def tweet_para_df(tweet):\n",
    "    try:\n",
    "        df_tratado = pd.DataFrame(tweet).reset_index(drop=True).iloc[:1]\n",
    "\n",
    "        df_tratado.drop(columns=['quote_count', 'reply_count', 'retweet_count', 'favorite_count', 'favorited', 'retweeted', 'user', 'entities'], inplace=True)\n",
    "\n",
    "        df_tratado['user_id'] = tweet['user']['id']\n",
    "        df_tratado['user_id_str'] = tweet['user']['id_str']\n",
    "        df_tratado['user_screen_name'] = tweet['user']['screen_name']\n",
    "        df_tratado['user_location'] = tweet['user']['location']\n",
    "        df_tratado['user_description'] = tweet['user']['description']\n",
    "        df_tratado['user_protected'] = tweet['user']['protected']\n",
    "        df_tratado['user_verified'] = tweet['user']['verified']\n",
    "        df_tratado['user_followers_count'] = tweet['user']['followers_count']\n",
    "        df_tratado['user_friends_count'] = tweet['user']['friends_count']\n",
    "        df_tratado['user_created_at'] = tweet['user']['created_at']\n",
    "\n",
    "        user_mentions = []\n",
    "        for mention in tweet['entities']['user_mentions']:\n",
    "            base = mention.copy()\n",
    "            mention.pop('indices', None)\n",
    "            user_mentions.append(\n",
    "                pd.DataFrame(mention, index=[0]).rename(columns={\n",
    "                    'screen_name': 'entities_screen_name',\n",
    "                    'name': 'entities_name',\n",
    "                    'id': 'entities_id',\n",
    "                    'id_str': 'entities_id_str'\n",
    "                })\n",
    "            )\n",
    "        dfs = []\n",
    "        for i in user_mentions:\n",
    "            dfs.append(\n",
    "                pd.concat([df_tratado.copy(), i], axis=1)\n",
    "            )\n",
    "        df_final = pd.concat(dfs, ignore_index=True) if len(dfs) > 0 else df_tratado\n",
    "    except:\n",
    "        return None\n",
    "    return df_final"
   ]
  },
  {
   "cell_type": "code",
   "execution_count": 8,
   "metadata": {},
   "outputs": [
    {
     "name": "stdout",
     "output_type": "stream",
     "text": [
      "2224\n",
      "CPU times: user 27 s, sys: 70.6 ms, total: 27 s\n",
      "Wall time: 27.3 s\n"
     ]
    }
   ],
   "source": [
    "%%time\n",
    "parsed = [tweet_para_df(tweet) for tweet in parsed_tweets]\n",
    "print(len(parsed))"
   ]
  },
  {
   "cell_type": "code",
   "execution_count": 9,
   "metadata": {},
   "outputs": [],
   "source": [
    "parsed = [i for i in parsed if i is not None]"
   ]
  },
  {
   "cell_type": "code",
   "execution_count": 10,
   "metadata": {},
   "outputs": [
    {
     "data": {
      "text/plain": [
       "1684"
      ]
     },
     "execution_count": 10,
     "metadata": {},
     "output_type": "execute_result"
    }
   ],
   "source": [
    "len(parsed)"
   ]
  },
  {
   "cell_type": "code",
   "execution_count": 18,
   "metadata": {},
   "outputs": [],
   "source": [
    "tweets_as_df: pd.DataFrame = pd.concat(parsed, ignore_index=True)"
   ]
  },
  {
   "cell_type": "code",
   "execution_count": null,
   "metadata": {},
   "outputs": [],
   "source": [
    "tweets_as_df"
   ]
  },
  {
   "cell_type": "markdown",
   "metadata": {},
   "source": [
    "# Twitter data ingestion into SQL Sever"
   ]
  },
  {
   "cell_type": "code",
   "execution_count": 15,
   "metadata": {},
   "outputs": [],
   "source": [
    "import pyodbc\n",
    "import sqlalchemy"
   ]
  },
  {
   "cell_type": "code",
   "execution_count": 22,
   "metadata": {},
   "outputs": [],
   "source": [
    "engine = sqlalchemy.create_engine(\"mssql+pyodbc://SA:P@ssw0rd@localhost/twitter?driver=ODBC+Driver+17+for+SQL+Server\")"
   ]
  },
  {
   "cell_type": "code",
   "execution_count": 24,
   "metadata": {},
   "outputs": [],
   "source": [
    "# Ingestion\n",
    "tweets_as_df.to_sql(\"tweets\", con=engine, index=False, if_exists=\"append\")"
   ]
  }
 ],
 "metadata": {
  "kernelspec": {
   "display_name": "Python 3",
   "language": "python",
   "name": "python3"
  },
  "language_info": {
   "codemirror_mode": {
    "name": "ipython",
    "version": 3
   },
   "file_extension": ".py",
   "mimetype": "text/x-python",
   "name": "python",
   "nbconvert_exporter": "python",
   "pygments_lexer": "ipython3",
   "version": "3.8.5"
  }
 },
 "nbformat": 4,
 "nbformat_minor": 4
}
